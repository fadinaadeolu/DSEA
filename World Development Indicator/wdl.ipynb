{
 "metadata": {
  "language_info": {
   "codemirror_mode": {
    "name": "ipython",
    "version": 3
   },
   "file_extension": ".py",
   "mimetype": "text/x-python",
   "name": "python",
   "nbconvert_exporter": "python",
   "pygments_lexer": "ipython3",
   "version": "3.8.5-final"
  },
  "orig_nbformat": 2,
  "kernelspec": {
   "name": "python3",
   "display_name": "Python 3.8.5 64-bit (conda)",
   "metadata": {
    "interpreter": {
     "hash": "dd6a2181579732c664ae52e0c453c16e52582e0647a064450ef32aed3561e825"
    }
   }
  }
 },
 "nbformat": 4,
 "nbformat_minor": 2,
 "cells": [
  {
   "cell_type": "code",
   "execution_count": null,
   "metadata": {},
   "outputs": [],
   "source": [
    "import pandas as pd\n",
    "df_wdl = pd.read_csv(\"./data/WDIProcessed.csv\")"
   ]
  },
  {
   "cell_type": "code",
   "execution_count": null,
   "metadata": {},
   "outputs": [],
   "source": [
    "df_wdl.head()"
   ]
  },
  {
   "cell_type": "code",
   "execution_count": null,
   "metadata": {
    "tags": []
   },
   "outputs": [],
   "source": [
    "country = []\n",
    "country_code = []\n",
    "indicator = []\n",
    "country_indicator_code = []\n",
    "\n",
    "for i in df_wdl[\"country_indcator\"]:\n",
    "    country.append(i.split(\"_\")[0])\n",
    "    country_code.append(i.split(\"_\")[1])\n",
    "    indicator.append(i.split(\"_\")[2])\n",
    "    country_indicator_code.append(i.split(\"_\")[3])"
   ]
  },
  {
   "cell_type": "code",
   "execution_count": null,
   "metadata": {},
   "outputs": [],
   "source": [
    "df_wdl[\"country\"] = country\n",
    "df_wdl[\"country_code\"] = country_code\n",
    "df_wdl[\"country_indicator_code\"] = country_indicator_code\n",
    "df_wdl[\"indicator\"] = indicator\n",
    "df_wdl.rename(columns={\"indcator_value\":\"indicator_value\"}, inplace=True)"
   ]
  },
  {
   "cell_type": "code",
   "execution_count": null,
   "metadata": {},
   "outputs": [],
   "source": [
    "df_wdl.to_csv(\"./data/WDLProcesses_tableau.csv\", index=False)\n",
    "df_wdl.to_csv(\"./data/WDLProcesses_tableau.txt\", header=True, index=False, sep=\"\\t\")"
   ]
  },
  {
   "cell_type": "code",
   "execution_count": null,
   "metadata": {},
   "outputs": [],
   "source": [
    "#import vaex\n",
    "#pip installimport vaex.ml\n",
    "\n",
    "#df_vaex = vaex.ml.datasets.load_titanic()\n",
    "#df_filtered = df[df.sex == 'female']\n",
    "#df_filtered"
   ]
  }
 ]
}