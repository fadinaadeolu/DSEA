{
 "metadata": {
  "language_info": {
   "codemirror_mode": {
    "name": "ipython",
    "version": 3
   },
   "file_extension": ".py",
   "mimetype": "text/x-python",
   "name": "python",
   "nbconvert_exporter": "python",
   "pygments_lexer": "ipython3",
   "version": "3.8.3-final"
  },
  "orig_nbformat": 2,
  "kernelspec": {
   "name": "Python 3.8.3 64-bit (conda)",
   "display_name": "Python 3.8.3 64-bit (conda)",
   "metadata": {
    "interpreter": {
     "hash": "dd6a2181579732c664ae52e0c453c16e52582e0647a064450ef32aed3561e825"
    }
   }
  }
 },
 "nbformat": 4,
 "nbformat_minor": 2,
 "cells": [
  {
   "cell_type": "code",
   "execution_count": null,
   "metadata": {},
   "outputs": [],
   "source": [
    "import google_play_scraper #https://pypi.org/project/google-play-scraper/\n",
    "import play_scraper #https://pypi.org/project/play-scraper/\n",
    "import pymongo"
   ]
  },
  {
   "cell_type": "code",
   "execution_count": null,
   "metadata": {},
   "outputs": [],
   "source": [
    "## Search for app id using keyword contained in app and title\n",
    "def write_app_reviews(name, title, database_name):\n",
    "    app_list = play_scraper.search(name)\n",
    "    for i in app_list:\n",
    "        if i.get('title') == title:\n",
    "            playstore_app_id = i.get('app_id')\n",
    "            break\n",
    "        else:\n",
    "            continue\n",
    "    \n",
    "    ## connect to mongodb server\n",
    "    ## NB. make sure server is already running\n",
    "    my_client = pymongo.MongoClient('mongodb://localhost:27017')\n",
    "\n",
    "    ## create database \n",
    "    if 'local' in my_client.list_database_names():\n",
    "        db = my_client[database_name]\n",
    "        print('Database {} already exist'.format(database_name))\n",
    "    else:\n",
    "        print('Creating database: {} '.format(database_name))\n",
    "        db = my_client[database_name]\n",
    "        print('Database {} successfully created'.format(database_name))\n",
    "\n",
    "    result, _ =  google_play_scraper.reviews(playstore_app_id,\n",
    "                        lang= None, # defaults to 'en'\n",
    "                        country='de', # defaults to 'us'\n",
    "                        sort=google_play_scraper.Sort.NEWEST, # defaults to Sort.MOST_RELEVANT\n",
    "                        count=10000, # defaults to 100\n",
    "                        filter_score_with= None # defaults to None(means all score)\n",
    "                        )\n",
    "\n",
    "    ## add collection to database\n",
    "    collection_name = \"{}_reviews\".format(name)\n",
    "    db = my_client[database_name]\n",
    "    my_collection = db[collection_name]\n",
    "\n",
    "    ## insert reviews into collection\n",
    "    my_collection.insert_many(result)\n",
    "    print(\"{} reviews successfully written to {}\".format(name, collection_name))\n",
    "\n",
    "    my_client.close()\n",
    "    return my_collection"
   ]
  },
  {
   "cell_type": "code",
   "execution_count": null,
   "metadata": {},
   "outputs": [],
   "source": [
    "## examples: scrape review for xing app\n",
    "my_collection =write_app_reviews(\"xing\",\"XING – Your jobs and careers network\",\"local\")"
   ]
  },
  {
   "cell_type": "code",
   "execution_count": null,
   "metadata": {},
   "outputs": [],
   "source": [
    "my_client = pymongo.MongoClient('mongodb://localhost:27017/')\n",
    "db = my_client['local']\n",
    "db.xing_reviews.drop()"
   ]
  }
 ]
}