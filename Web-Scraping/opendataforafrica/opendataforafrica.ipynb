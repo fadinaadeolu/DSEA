{
 "metadata": {
  "language_info": {
   "codemirror_mode": {
    "name": "ipython",
    "version": 3
   },
   "file_extension": ".py",
   "mimetype": "text/x-python",
   "name": "python",
   "nbconvert_exporter": "python",
   "pygments_lexer": "ipython3",
   "version": "3.8.3-final"
  },
  "orig_nbformat": 2,
  "kernelspec": {
   "name": "Python 3.8.3 64-bit (conda)",
   "display_name": "Python 3.8.3 64-bit (conda)",
   "metadata": {
    "interpreter": {
     "hash": "dd6a2181579732c664ae52e0c453c16e52582e0647a064450ef32aed3561e825"
    }
   }
  }
 },
 "nbformat": 4,
 "nbformat_minor": 2,
 "cells": [
  {
   "cell_type": "code",
   "execution_count": null,
   "metadata": {},
   "outputs": [],
   "source": [
    "from bs4 import BeautifulSoup\n",
    "from urllib.request import Request, urlopen\n",
    "import re\n",
    "import pymongo"
   ]
  },
  {
   "cell_type": "code",
   "execution_count": null,
   "metadata": {},
   "outputs": [],
   "source": [
    "states = [  \"Abia\",\n",
    "            \"Abuja\",\n",
    "            \"Adamawa\",\n",
    "            \"Akwa-Ibom\",\n",
    "            \"Anambra\",\n",
    "            \"Bauchi\",\n",
    "            \"Bayelsa\",\n",
    "            \"Benue\",\n",
    "            \"Borno\",\n",
    "            \"Cross-River\",\n",
    "            \"Delta\",\n",
    "            \"Ebonyi\",\n",
    "            \"Edo\",\n",
    "            \"Ekiti\",\n",
    "            \"Enugu\",\n",
    "            \"Gombe\",\n",
    "            \"Imo\",\n",
    "            \"Jigawa\",\n",
    "            \"Kaduna\",\n",
    "            \"Kano\",\n",
    "            \"Katsina\",\n",
    "            \"Kebbi\",\n",
    "            \"Kogi\",\n",
    "            \"Kwara\",\n",
    "            \"Lagos\",\n",
    "            \"Nassarawa\",\n",
    "            \"Niger\",\n",
    "            \"Ogun\",\n",
    "            \"Ondo\",\n",
    "            \"Osun\",\n",
    "            \"Oyo\",\n",
    "            \"Plateau\",\n",
    "            \"Rivers\",\n",
    "            \"Sokoto\",\n",
    "            \"Taraba\",\n",
    "            \"Yobe\",\n",
    "            \"Zamfara\"\n",
    "            ]"
   ]
  },
  {
   "cell_type": "code",
   "execution_count": null,
   "metadata": {
    "tags": []
   },
   "outputs": [],
   "source": [
    "data = {}\n",
    "for state in states:\n",
    "    print(state)\n",
    "    req = Request(\"https://nigeria.opendataforafrica.org/apps/atlas/{}\".format(state))\n",
    "    state_html_page = urlopen(req)\n",
    "    soup = BeautifulSoup(state_html_page, \"lxml\")\n",
    "    links = []\n",
    "    for link in soup.findAll(\"a\"):\n",
    "        links.append(link.get(\"href\"))\n",
    "\n",
    "    state_1 = state+\"/\"\n",
    "    state_info = list()\n",
    "\n",
    "    if \"-\" in state:\n",
    "        state.replace(\"-\",\"\")\n",
    "\n",
    "    for link in links:\n",
    "        if state_1 in link:\n",
    "            ppty = link.split(\"/\")[-1].replace(\"-\",\"_\").lower()\n",
    "            info={}\n",
    "            state_info_html_page = urlopen(link)\n",
    "            soup = BeautifulSoup(state_info_html_page,'lxml')\n",
    "            val = list()\n",
    "            for tr in soup.findAll('tr'):\n",
    "                vals = tr.get_text('', strip=False)\n",
    "                vals =  vals.replace('%','').replace('Change,\\xa0','Change'\n",
    "                        ).replace('\\n\\n','\\nnan').strip('\\n').split('\\n')\n",
    "                val.append(vals)\n",
    "            info[ppty] = val\n",
    "            state_info.append(info)\n",
    "        else:\n",
    "            continue\n",
    "    data[state] = state_info"
   ]
  },
  {
   "cell_type": "code",
   "execution_count": null,
   "metadata": {},
   "outputs": [],
   "source": [
    "## connect to mongodb server\n",
    "## NB. make sure server is already running\n",
    "my_client = pymongo.MongoClient(\"mongodb://localhost:27017/local\")\n",
    "\n",
    "collection_name = \"opendataforafrica\"\n",
    "\n",
    "db = my_client[collection_name]\n",
    "my_collection = db[collection_name]\n",
    "\n",
    "## insert reviews into collection\n",
    "my_collection.insert_one(data)"
   ]
  }
 ]
}