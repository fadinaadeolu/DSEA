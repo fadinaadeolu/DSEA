{
 "metadata": {
  "language_info": {
   "codemirror_mode": {
    "name": "ipython",
    "version": 3
   },
   "file_extension": ".py",
   "mimetype": "text/x-python",
   "name": "python",
   "nbconvert_exporter": "python",
   "pygments_lexer": "ipython3",
   "version": "3.8.5-final"
  },
  "orig_nbformat": 2,
  "kernelspec": {
   "name": "python3",
   "display_name": "Python 3",
   "language": "python"
  }
 },
 "nbformat": 4,
 "nbformat_minor": 2,
 "cells": [
  {
   "cell_type": "code",
   "execution_count": null,
   "metadata": {},
   "outputs": [],
   "source": [
    "import google_play_scraper\n",
    "import play_scraper\n",
    "import pandas as pd\n",
    "from matplotlib.pyplot import style\n",
    "import matplotlib.pyplot as plt\n",
    "from PIL import Image\n",
    "from wordcloud import WordCloud, STOPWORDS, ImageColorGenerator\n",
    "from nltk.corpus import stopwords\n",
    "from sklearn.feature_extraction.text import CountVectorizer\n",
    "\n",
    "german_stop_words = stopwords.words('german')"
   ]
  },
  {
   "cell_type": "code",
   "execution_count": null,
   "metadata": {},
   "outputs": [],
   "source": [
    "# Enter country code and language\n",
    "country = \"de\"\n",
    "lang = \"de\"\n",
    "\n",
    "app_name= \"Xing\" #e.g Xing\n",
    "\n",
    "# Fetch a list of autocompleted query suggestions\n",
    "play_scraper.suggestions(\"car\")"
   ]
  },
  {
   "cell_type": "code",
   "execution_count": null,
   "metadata": {},
   "outputs": [],
   "source": [
    "# Fetch a list of applications matching a search query. \n",
    "search_query = app_name\n",
    "app_list = play_scraper.search(search_query, gl=country, hl=lang)\n",
    "\n",
    "app_list = pd.DataFrame(app_list)\n",
    "\n",
    "# Fetch app_id\n",
    "app_list = app_list[\"app_id\"].values.tolist()\n",
    "\n",
    "review = list()\n",
    "total_reviews = pd.DataFrame()\n",
    "\n",
    "for id in app_list:\n",
    "    for score in range(1,6):\n",
    "        result, _ = google_play_scraper.reviews(id,\n",
    "                                lang=lang, # defaults to 'en'\n",
    "                                country=country, # defaults to 'us'\n",
    "                                sort=google_play_scraper.Sort.NEWEST, # defaults to Sort.MOST_RELEVANT\n",
    "                                count=5000, # defaults to 100\n",
    "                                filter_score_with=score) # defaults to None(means all score)\n",
    "                        \n",
    "        review.extend(result)\n",
    "\n",
    "reviews = pd.DataFrame(review)\n",
    "total_reviews = total_reviews.append(reviews)\n",
    "\n",
    "# drop columns not needed\n",
    "total_reviews = total_reviews.drop(columns=[\n",
    "                    \"userName\", \n",
    "                    \"userImage\", \n",
    "                    \"reviewCreatedVersion\", \n",
    "                    \"replyContent\", \n",
    "                    \"repliedAt\",\n",
    "                    \"at\"\n",
    "                ]\n",
    "            )\n",
    "\n",
    "total_reviews.head(2)"
   ]
  },
  {
   "cell_type": "code",
   "execution_count": null,
   "metadata": {
    "tags": []
   },
   "outputs": [],
   "source": [
    "df = total_reviews.dropna().copy()"
   ]
  },
  {
   "cell_type": "code",
   "execution_count": null,
   "metadata": {},
   "outputs": [],
   "source": [
    "raw_words = []\n",
    "for i in df[\"content\"]:\n",
    "    words = i.split(\" \")\n",
    "    raw_words.extend(words)\n",
    "\n",
    "raw_words\n",
    "# Number of unique words in raw reviews\n",
    "raw_word_count = len(set(raw_words))\n",
    "\n",
    "# Preprocessing: Remove stopwords\n",
    "vectorizer = CountVectorizer(stop_words = german_stop_words) \n",
    "X = vectorizer.fit_transform(df[\"content\"])\n",
    "pro_words = vectorizer.get_feature_names()\n",
    "\n",
    "# Number of unique words in preprocessed reviews\n",
    "pro_word_count= len(set(pro_words))"
   ]
  },
  {
   "cell_type": "code",
   "execution_count": null,
   "metadata": {},
   "outputs": [],
   "source": [
    "style.use(\"seaborn\")\n",
    "\n",
    "x = (0, 1)\n",
    "wc = [raw_word_count, pro_word_count]\n",
    "\n",
    "plt.bar(x, wc)\n",
    "plt.xticks(x, ('Raw Reviews', 'Preprocessed Reviews'), fontsize=14)\n",
    "plt.ylabel(\"Word Count\", fontsize=14)\n",
    "plt.yticks(fontsize=14)\n",
    "plt.show()"
   ]
  },
  {
   "cell_type": "code",
   "execution_count": null,
   "metadata": {},
   "outputs": [],
   "source": [
    "# Plot word cloud\n",
    "text = \" \".join(review for review in df[\"content\"])\n",
    "wordcloud = WordCloud(max_font_size=50, max_words=100, background_color=\"white\").generate(text)\n",
    "plt.figure(figsize=(15,30))\n",
    "plt.imshow(wordcloud, interpolation=\"bilinear\")\n",
    "plt.axis(\"off\")\n",
    "plt.show()\n",
    "wordcloud.to_file(\"./img/raw_review_wordcloud.png\")"
   ]
  },
  {
   "cell_type": "code",
   "execution_count": null,
   "metadata": {},
   "outputs": [],
   "source": [
    "# Plot word cloud\n",
    "## Create stopword list:\n",
    "stopwords = set(STOPWORDS)\n",
    "stopwords.update(german_stop_words)\n",
    "\n",
    "text = \" \".join(review for review in df[\"content\"])\n",
    "wordcloud = WordCloud(stopwords=stopwords, background_color=\"white\").generate(text)\n",
    "plt.figure(figsize=(15,30))\n",
    "plt.imshow(wordcloud, interpolation=\"bilinear\")\n",
    "plt.axis(\"off\")\n",
    "plt.show()\n",
    "wordcloud.to_file(\"./img/preprocessed_review_wordcloud.png\")"
   ]
  },
  {
   "cell_type": "code",
   "execution_count": null,
   "metadata": {},
   "outputs": [],
   "source": [
    "def remove_stopwords(x):\n",
    "    token = x.split(\" \")\n",
    "    return \" \".join([w for w in token if not w.lower() in german_stop_words])\n",
    "    \n",
    "df[\"preprocessContent\"] = df[\"content\"].apply(remove_stopwords)"
   ]
  },
  {
   "cell_type": "code",
   "execution_count": null,
   "metadata": {},
   "outputs": [],
   "source": [
    "df.to_excel(\"./data/reviews_german.xlsx\")\n",
    "df.head(1)"
   ]
  }
 ]
}