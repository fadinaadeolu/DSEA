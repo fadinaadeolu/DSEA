{
 "metadata": {
  "language_info": {
   "codemirror_mode": {
    "name": "ipython",
    "version": 3
   },
   "file_extension": ".py",
   "mimetype": "text/x-python",
   "name": "python",
   "nbconvert_exporter": "python",
   "pygments_lexer": "ipython3",
   "version": "3.8.5-final"
  },
  "orig_nbformat": 2,
  "kernelspec": {
   "name": "python3",
   "display_name": "Python 3.8.5 64-bit",
   "metadata": {
    "interpreter": {
     "hash": "0449d7550e459ed0869b42f046148eadaaabf224b9293c9cc3a31821146f6ee9"
    }
   }
  }
 },
 "nbformat": 4,
 "nbformat_minor": 2,
 "cells": [
  {
   "cell_type": "code",
   "execution_count": null,
   "metadata": {},
   "outputs": [],
   "source": [
    "import tensorflow as tf\n",
    "from keras.preprocessing.image import ImageDataGenerator\n",
    "import numpy as np\n",
    "from keras.preprocessing import image\n",
    "\n",
    "tf.__version__"
   ]
  },
  {
   "cell_type": "code",
   "execution_count": null,
   "metadata": {},
   "outputs": [],
   "source": [
    "# Preprocess training images using keras api\n",
    "train_datagen = ImageDataGenerator(\n",
    "    rescale=1./255,  # scale feature\n",
    "    shear_range=0.2,\n",
    "    zoom_range=0.2,\n",
    "    horizontal_flip=True\n",
    ")\n",
    "\n",
    "train_set = train_datagen.flow_from_directory(\n",
    "    \"./dataset/training_set\",\n",
    "    target_size=(64, 64),\n",
    "    batch_size=32,\n",
    "    class_mode=\"binary\" # binary classification (cat and dog)\n",
    ")"
   ]
  },
  {
   "cell_type": "code",
   "execution_count": null,
   "metadata": {},
   "outputs": [],
   "source": [
    "# Preprocess test images\n",
    "test_datagen = ImageDataGenerator(rescale=1./255)\n",
    "\n",
    "test_set = test_datagen.flow_from_directory(\n",
    "    \"./dataset/test_set\",\n",
    "    target_size=(64, 64),\n",
    "    batch_size=32,\n",
    "    class_mode=\"binary\" # binary classification (cat and dog)\n",
    ")"
   ]
  },
  {
   "cell_type": "code",
   "execution_count": null,
   "metadata": {},
   "outputs": [],
   "source": [
    "def create_model():\n",
    "    # Build CNN. see www.tensorflow.org/api_docs/python/tf/keras/\n",
    "    model = tf.keras.models.Sequential([\n",
    "        # 1.convolution layer: Conv2D and pooling layer\n",
    "        tf.keras.layers.Conv2D(filters=32, kernel_size=3, activation=\"relu\", input_shape=[64, 64, 3]),\n",
    "        tf.keras.layers.MaxPool2D(pool_size=2, strides=2), # 2. add pooling layer\n",
    "        # 3. second convolution layer \n",
    "        tf.keras.layers.Conv2D(filters=32, kernel_size=3, activation=\"relu\", input_shape=[64, 64]),\n",
    "        tf.keras.layers.MaxPool2D(pool_size=2, strides=2), \n",
    "        tf.keras.layers.Flatten(),                           # 4. Flatten\n",
    "        tf.keras.layers.Dense(units=128, activation=\"relu\"), # 5. Connect layers\n",
    "        tf.keras.layers.Dense(units=1, activation=\"sigmoid\") # 6. add output layer\n",
    "    ])\n",
    "    # compile method\n",
    "    model.compile(optimizer=\"adam\", loss=\"binary_crossentropy\",metrics=[\"accuracy\"])\n",
    "\n",
    "    return model\n",
    "\n",
    "model = create_model()\n",
    "model.fit(x=train_set, validation_data=test_set, epochs=30)"
   ]
  },
  {
   "cell_type": "code",
   "execution_count": null,
   "metadata": {},
   "outputs": [],
   "source": [
    "test_image = image.load_img(\"./dataset/single_prediction/cat_or_dog_1.jpg\", target_size=(64, 64))\n",
    "test_image = image.img_to_array(test_image)\n",
    "test_image = np.expand_dims(test_image, axis=0)\n",
    "result = cnn.predict(test_image)\n",
    "\n",
    "train_set.class_indices # to get code for dog and cat\n",
    "\n",
    "if result[0][0] > 0.5:\n",
    "    prediction = \"dog\"\n",
    "else:\n",
    "    prediction = \"cat\"\n",
    "\n",
    "print(prediction)"
   ]
  },
  {
   "cell_type": "code",
   "execution_count": null,
   "metadata": {},
   "outputs": [],
   "source": [
    "# Save model as HDF5\n",
    "model.save(\"./model/model.h5\")\n",
    "\n",
    "new_model = tf.keras.models.load_model(\"./model/model.h5\")\n",
    "\n",
    "# Show the model architecture\n",
    "new_model.summary()"
   ]
  }
 ]
}